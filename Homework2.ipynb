{
  "nbformat": 4,
  "nbformat_minor": 0,
  "metadata": {
    "colab": {
      "provenance": [],
      "include_colab_link": true
    },
    "kernelspec": {
      "name": "python3",
      "display_name": "Python 3"
    },
    "language_info": {
      "name": "python"
    }
  },
  "cells": [
    {
      "cell_type": "markdown",
      "metadata": {
        "id": "view-in-github",
        "colab_type": "text"
      },
      "source": [
        "<a href=\"https://colab.research.google.com/github/mmdstech/IDC-6146-DeepLearning/blob/main/Homework2.ipynb\" target=\"_parent\"><img src=\"https://colab.research.google.com/assets/colab-badge.svg\" alt=\"Open In Colab\"/></a>"
      ]
    },
    {
      "cell_type": "markdown",
      "source": [
        "# Homework 2: Training Your First Model"
      ],
      "metadata": {
        "id": "r-kq1gGiGq1m"
      }
    },
    {
      "cell_type": "markdown",
      "source": [
        "The problem we will solve is to convert from Celsius to Fahrenheit, where the approximate formula is:\n",
        "\n",
        "$$ f = c \\times 1.8 + 32 $$\n",
        "\n",
        "We will not create a conventional Python function that directly performs this calculation. Instead, we will give TensorFlow some sample Celsius value (0, 8, 15, 22, 38) and their corresponding Fahrenheit values (32, 46, 59, 72, 100). Then, we will train a model that figures out the above formula through the training process."
      ],
      "metadata": {
        "id": "GdQUXaGVG-gA"
      }
    },
    {
      "cell_type": "markdown",
      "source": [
        "## Import dependencies"
      ],
      "metadata": {
        "id": "eADOu1d7H43D"
      }
    },
    {
      "cell_type": "markdown",
      "source": [
        "First, import TensorFlow.Here, we're calling it `tf` for ease of use. We also tell it to only display errors.\n",
        "\n",
        "Next, import [NumPy](http://www.numpy.org/) as `np`. Numpy helps us to represent our data as highly performant lists."
      ],
      "metadata": {
        "id": "LDThHvKhH_UC"
      }
    },
    {
      "cell_type": "code",
      "source": [
        "import tensorflow as tf"
      ],
      "metadata": {
        "id": "yVYHbHIeIcxE"
      },
      "execution_count": null,
      "outputs": []
    },
    {
      "cell_type": "code",
      "source": [
        "import numpy as np\n",
        "import logging\n",
        "logger = tf.get_logger()\n",
        "logger.setLevel(logging.ERROR)"
      ],
      "metadata": {
        "id": "URyaMK1KIhpW"
      },
      "execution_count": null,
      "outputs": []
    },
    {
      "cell_type": "markdown",
      "source": [
        "## Set up training data"
      ],
      "metadata": {
        "id": "MuORJk0VIxyd"
      }
    },
    {
      "cell_type": "markdown",
      "source": [
        "The task is to create a model that can give the temperature in Fahrenheit when given the degrees in Celsius. We create two lists `celsius_q` and `fahrenheit_a` that we can use to train our model."
      ],
      "metadata": {
        "id": "RYpKUoyRI4U-"
      }
    },
    {
      "cell_type": "code",
      "source": [
        "celsius_q = np.array([-40, -10, 0, 8, 15, 22, 38], dtype=float)\n",
        "fahrenheit_a = np.array([-40, 14, 32, 46, 59, 72, 100], dtype=float)\n",
        "\n",
        "for i,c in enumerate(celsius_q):\n",
        "  print(\"{} degrees Ceisius = {} degrees Fahrenheit\".format(c, fahrenheit_a[i]))"
      ],
      "metadata": {
        "colab": {
          "base_uri": "https://localhost:8080/"
        },
        "id": "mfumO8HAJV85",
        "outputId": "8456e822-acd1-459f-e0d2-4e6f7d565901"
      },
      "execution_count": null,
      "outputs": [
        {
          "output_type": "stream",
          "name": "stdout",
          "text": [
            "-40.0 degrees Ceisius = -40.0 degrees Fahrenheit\n",
            "-10.0 degrees Ceisius = 14.0 degrees Fahrenheit\n",
            "0.0 degrees Ceisius = 32.0 degrees Fahrenheit\n",
            "8.0 degrees Ceisius = 46.0 degrees Fahrenheit\n",
            "15.0 degrees Ceisius = 59.0 degrees Fahrenheit\n",
            "22.0 degrees Ceisius = 72.0 degrees Fahrenheit\n",
            "38.0 degrees Ceisius = 100.0 degrees Fahrenheit\n"
          ]
        }
      ]
    },
    {
      "cell_type": "markdown",
      "source": [
        "## Create the model\n",
        "\n",
        "Next, create the model. We will use the simplest possible model we can, a Dense network. Since the problem is straightforward, this network will require only a single layer, with a single neuron.\n",
        "\n",
        "### Build a layer\n",
        "\n",
        "We'll call the layer `l_0` and create it by instantiating `tf.keras.layers.Dense` with the following configuration:\n",
        "\n",
        "*   `input_shape=[1]` — This specifies that the input to this layer is a single value. That is, the shape is a one-dimensional array with one member. Since this is the first (and only) layer, that input shape is the input shape of the entire model. The single value is a floating point number, representing degrees Celsius.\n",
        "\n",
        "*   `units=1` — This specifies the number of neurons in the layer. The number of neurons defines how many internal variables the layer has to try to learn how to solve the problem (more later). Since this is the final layer, it is also the size of the model's output — a single float value representing degrees Fahrenheit. (In a multi-layered network, the size and shape of the layer would need to match the `input_shape` of the next layer.)"
      ],
      "metadata": {
        "id": "GxPkfAvxKIVS"
      }
    },
    {
      "cell_type": "code",
      "source": [
        "# please build a layer l_0 here\n"
      ],
      "metadata": {
        "id": "wuLqy3QyLJrr"
      },
      "execution_count": null,
      "outputs": []
    },
    {
      "cell_type": "markdown",
      "source": [
        "### Assemble layers into the model\n",
        "\n",
        "Once layers are defined, they need to be assembled into a model. The Sequential model definition takes a list of layers as an argument, specifying the calculation order from the input to the output.\n",
        "\n",
        "This model has just a single layer, `l_0`."
      ],
      "metadata": {
        "id": "d4Hm-YiOLUIG"
      }
    },
    {
      "cell_type": "code",
      "source": [
        "# please build the model here\n"
      ],
      "metadata": {
        "id": "LEXO1cmFLdj_"
      },
      "execution_count": null,
      "outputs": []
    },
    {
      "cell_type": "markdown",
      "source": [
        "## Compile the model, with loss and optimizer functions\n",
        "\n",
        "Before training, the model has to be compiled. When compiled for training, the model is given:\n",
        "\n",
        "- **Loss function** — A way of measuring how far off predictions are from the desired outcome. (The measured difference is called the \"loss\".)\n",
        "\n",
        "- **Optimizer function** — A way of adjusting internal values in order to reduce the loss.\n",
        "\n",
        "Here, we can use mean squared error as our loss function and `tf.keras.optimizer.Adam` with learning rate as the optimizer."
      ],
      "metadata": {
        "id": "9RyzbmeeL8gO"
      }
    },
    {
      "cell_type": "code",
      "source": [
        "# please compile the model with loss and optimizer functions\n"
      ],
      "metadata": {
        "id": "UKPJ68qROOnA"
      },
      "execution_count": null,
      "outputs": []
    },
    {
      "cell_type": "markdown",
      "source": [
        "Note: One part of the Optimizer you may need to think about when building your own models is the learning rate (`0.1` in the code above). This is the step size taken when adjusting values in the model. If the value is too small, it will take too many iterations to train the model. Too large, and accuracy goes down. Finding a good value often involves some trial and error, but the range is usually within 0.001 (default), and 0.1"
      ],
      "metadata": {
        "id": "6cDykNdCOqCq"
      }
    },
    {
      "cell_type": "markdown",
      "source": [
        "## Train the model\n",
        "\n",
        "Train the model by calling the `fit` method.\n",
        "\n",
        "During training, the model takes in Celsius values, performs a calculation using the current internal variables (called \"weights\") and outputs values which are meant to be the Fahrenheit equivalent. Since the weights are initially set randomly, the output will not be close to the correct value. The difference between the actual output and the desired output is calculated using the loss function, and the optimizer function directs how the weights should be adjusted.\n",
        "\n",
        "This cycle of calculate, compare, adjust is controlled by the `fit` method. The first argument is the inputs, the second argument is the desired outputs. The `epochs = 500` argument specifies how many times this cycle should be run, and the `verbose` argument controls how much output the method produces."
      ],
      "metadata": {
        "id": "ONC18gn_O9Mo"
      }
    },
    {
      "cell_type": "code",
      "source": [
        "# please train the model here\n"
      ],
      "metadata": {
        "id": "d7JvizPBPkfx"
      },
      "execution_count": null,
      "outputs": []
    },
    {
      "cell_type": "markdown",
      "source": [
        "## Display training statistics\n",
        "\n",
        "The `fit` method returns a history object. We can use this object to plot how the loss of our model goes down after each training epoch. A high loss means that the Fahrenheit degrees the model predicts is far from the corresponding value in `fahrenheit_a`.\n",
        "\n",
        "We'll use [Matplotlib](https://matplotlib.org/) to visualize this (you could use another tool). You will see the model improves very quickly at first, and then has a steady, slow improvement until it is very near \"perfect\" towards the end."
      ],
      "metadata": {
        "id": "oE2ji3Y7P7cf"
      }
    },
    {
      "cell_type": "code",
      "source": [
        "import matplotlib.pyplot as plt\n",
        "plt.xlabel('Epoch Number')\n",
        "plt.ylabel('Loss Magnitude')\n",
        "# Now plot Epoch Number (x-axis) and Loss Magnitude (y-axis) here\n"
      ],
      "metadata": {
        "id": "V2pdf3CnQOnw"
      },
      "execution_count": null,
      "outputs": []
    },
    {
      "cell_type": "markdown",
      "source": [
        "## Use the model to predict values\n",
        "\n",
        "Now you have a model that has been trained to learn the relationship between `celsius_q` and `fahrenheit_a`. You can use the predict method to have it calculate the Fahrenheit degrees for a previously unknown Celsius degrees.\n",
        "\n",
        "So, for example, if the Celsius value is 100, what do you think the Fahrenheit result will be? Take a guess before you run this code."
      ],
      "metadata": {
        "id": "mfr5g83wQxX9"
      }
    },
    {
      "cell_type": "code",
      "source": [
        "# please use the model trained to predict (if Celsius value is 100)\n"
      ],
      "metadata": {
        "id": "YlL2AgkdQ3p6"
      },
      "execution_count": null,
      "outputs": []
    },
    {
      "cell_type": "markdown",
      "source": [
        "## Looking at the layer weights\n",
        "\n",
        "Finally, let's print the internal variables of the Dense layer."
      ],
      "metadata": {
        "id": "vjrWddZQRhAh"
      }
    },
    {
      "cell_type": "code",
      "source": [
        "# please print the internal variables of the Dense layer\n"
      ],
      "metadata": {
        "id": "qSqjJXC_RsgK"
      },
      "execution_count": null,
      "outputs": []
    },
    {
      "cell_type": "markdown",
      "source": [
        "Check the printed first and second variable. Are they close  to 1.8 and 32 (actual variables in the real conversion formula)?"
      ],
      "metadata": {
        "id": "rU4uqzMERzno"
      }
    },
    {
      "cell_type": "markdown",
      "source": [
        "### A little experiment\n",
        "\n",
        "What if we created more Dense layers with different units, which therefore also has more variables?\n",
        "\n",
        "layer `l_0`: `input_shape=[1]` and `units=4`\n",
        "\n",
        "layer `l_1`: `units=4`\n",
        "\n",
        "layer `l_2`: `units=1`\n",
        "\n",
        "After adding these layers, build, compile and train the model with the same parameters as above.\n",
        "\n",
        "Please also use the trained model to predict if Celsius value is 100, what is the Fahrenheit result will be? Show your result.\n",
        "\n",
        "Please print weights for layer l_0, l_1 and l_2 with the following format"
      ],
      "metadata": {
        "id": "RiZiu8k5SNVQ"
      }
    },
    {
      "cell_type": "code",
      "source": [
        "# please add layer l_0, l_1 and l_2\n",
        "\n",
        "\n",
        "# please build the model with same parameters as above\n",
        "\n",
        "# please compile the model with the same loss and optimizer function as above\n",
        "\n",
        "# please train the model with the same parameters as above\n",
        "\n",
        "# please predict if Ceisius value is 100, what is the Fahrenheit result?\n",
        "\n",
        "# please print weights for layer `l_0`, `l_1` and `l_2` with the following format\n",
        "print(\"These are the l_0 variables: {}\".format(l_0.get_weights()))\n",
        "print(\"These are the l_1 variables: {}\".format(l_1.get_weights()))\n",
        "print(\"These are the l_2 variables: {}\".format(l_2.get_weights()))"
      ],
      "metadata": {
        "id": "GMCgfloDSfDG"
      },
      "execution_count": null,
      "outputs": []
    }
  ]
}